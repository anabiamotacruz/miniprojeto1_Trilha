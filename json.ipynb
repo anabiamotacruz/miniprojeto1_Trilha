{
 "cells": [
  {
   "cell_type": "code",
   "execution_count": null,
   "metadata": {},
   "outputs": [
    {
     "data": {
      "text/plain": [
       "''"
      ]
     },
     "execution_count": 1,
     "metadata": {},
     "output_type": "execute_result"
    }
   ],
   "source": [
    "# OBS: Eu comecei o projeto fazendo por arquivos separados e depois não consegui juntar (uma verdadeira tragédia, quase perdi a cabeça)\n",
    "# Me perdoem, fiz o que consegui entender (ou seja, só a estrutura)"
   ]
  },
  {
   "cell_type": "code",
   "execution_count": 14,
   "metadata": {},
   "outputs": [],
   "source": [
    "import json\n",
    "\n",
    "with open(\"C:\\\\Users\\\\BEATRIZ\\\\Desktop\\\\Trilha\\\\Mini Projeto 1\\\\movies_and_series.json\") as file:\n",
    "    data = json.load(file)"
   ]
  },
  {
   "cell_type": "code",
   "execution_count": 43,
   "metadata": {},
   "outputs": [],
   "source": [
    "# Questão 1 / Filmes e séries\n",
    "\n",
    "filmes = data[\"data\"][\"movies\"]\n",
    "titulos_filmes = [movie[\"title\"] for movie in filmes]"
   ]
  },
  {
   "cell_type": "code",
   "execution_count": 44,
   "metadata": {},
   "outputs": [],
   "source": [
    "# Questão 2 / Filmes e séries\n",
    "\n",
    "series = data[\"data\"][\"series\"]\n",
    "titulos_series = [serie[\"title\"] for serie in series]"
   ]
  },
  {
   "cell_type": "code",
   "execution_count": 46,
   "metadata": {},
   "outputs": [],
   "source": [
    "# Questão 3 / Filmes e séries\n",
    "# Não entendi muito bem os códigos dessa parte\n",
    "melhor_filme = max(filmes, key=lambda x: x[\"rating\"], default=None)\n",
    "melhor_serie = max(series, key=lambda x: x[\"rating\"], default=None)"
   ]
  },
  {
   "cell_type": "code",
   "execution_count": 47,
   "metadata": {},
   "outputs": [],
   "source": [
    "# Questão 4 / Filmes e séries\n",
    "\n",
    "generos = set()\n",
    "\n",
    "for movie in filmes:\n",
    "    generos.update(movie['genres'])\n",
    "\n",
    "for serie in series:\n",
    "    generos.update(serie[\"genres\"])\n",
    "\n",
    "lista_generos = sorted(generos)"
   ]
  },
  {
   "cell_type": "code",
   "execution_count": 51,
   "metadata": {},
   "outputs": [],
   "source": [
    "# Questão 5 / Filmes e séries\n",
    "\n",
    "num_movies = len(filmes)\n",
    "num_series = len(series)"
   ]
  },
  {
   "cell_type": "code",
   "execution_count": 49,
   "metadata": {},
   "outputs": [],
   "source": [
    "# Questão 6\n",
    "\n",
    "plataformas_streaming = set()\n",
    "\n",
    "for movie in filmes:\n",
    "    if \"streaming\" in movie:\n",
    "        plataformas_streaming.update(movie[\"streaming\"].keys())\n",
    "\n",
    "for serie in series:\n",
    "    if \"streaming\" in serie:\n",
    "        plataformas_streaming.update(serie[\"streaming\"].keys())\n",
    "\n",
    "lista_streamings = sorted(plataformas_streaming)"
   ]
  },
  {
   "cell_type": "code",
   "execution_count": 50,
   "metadata": {},
   "outputs": [],
   "source": [
    "# Questão 7\n",
    "\n",
    "filmes_4k_netflix = [\n",
    "    movie[\"title\"]\n",
    "    for movie in filmes\n",
    "    if \"Netflix\" in movie.get(\"streaming\", {}) and \"4K\" in movie[\"streaming\"][\"Netflix\"].get(\"resolution\", [])\n",
    "]\n",
    "series_4k_netflix = [\n",
    "    serie[\"title\"]\n",
    "    for serie in series\n",
    "    if \"Netflix\" in serie.get(\"streaming\", {}) and \"4K\" in serie[\"streaming\"][\"Netflix\"].get(\"resolution\", [])\n",
    "]"
   ]
  },
  {
   "cell_type": "code",
   "execution_count": 54,
   "metadata": {},
   "outputs": [],
   "source": [
    "# Questão 8\n",
    "\n",
    "for movie in data[\"data\"][\"movies\"]:\n",
    "    if \"streaming\" in movie:\n",
    "        plataformas_disp = {\n",
    "            platform: details[\"url\"]\n",
    "            for platform, details in movie[\"streaming\"].items()\n",
    "            if details[\"available\"]\n",
    "        }\n",
    "        if plataformas_disp:\n",
    "            plataformas_filmes = [movie[\"title\"]] = plataformas_disp"
   ]
  },
  {
   "cell_type": "code",
   "execution_count": 53,
   "metadata": {},
   "outputs": [],
   "source": [
    "# Questão 9\n",
    "\n",
    "atores = {}\n",
    "\n",
    "for movie in data[\"data\"][\"movies\"]:\n",
    "    for cast in movie.get(\"cast\", []):\n",
    "        atores[cast[\"actor\"]] = cast[\"character\"]\n",
    "\n",
    "for serie in data[\"data\"][\"series\"]:\n",
    "    for cast in serie.get(\"cast\", []):\n",
    "        atores[cast[\"actor\"]] = cast[\"character\"]"
   ]
  },
  {
   "cell_type": "code",
   "execution_count": 52,
   "metadata": {},
   "outputs": [],
   "source": [
    "# Questão 10\n",
    "\n",
    "rico = None\n",
    "maior_salario = 0\n",
    "\n",
    "for movie in data[\"data\"][\"movies\"]:\n",
    "    for cast in movie.get(\"cast\", []):\n",
    "        if cast[\"salary\"] > maior_salario:\n",
    "            maior_salario = cast[\"salary\"]\n",
    "            rico = {\n",
    "                \"actor\": cast[\"actor\"],\n",
    "                \"character\": cast[\"character\"],\n",
    "                \"salary\": cast[\"salary\"],\n",
    "                \"movie_or_series\": movie[\"title\"],\n",
    "                \"type\": \"Movie\"\n",
    "            }\n",
    "\n",
    "for serie in data[\"data\"][\"series\"]:\n",
    "    for cast in serie.get(\"cast\", []):\n",
    "        if cast[\"salary\"] > maior_salario:\n",
    "            maior_salario = cast[\"salary\"]\n",
    "            rico = {\n",
    "                \"actor\": cast[\"actor\"],\n",
    "                \"character\": cast[\"character\"],\n",
    "                \"salary\": cast[\"salary\"],\n",
    "                \"movie_or_series\": serie[\"title\"],\n",
    "                \"type\": \"Series\"\n",
    "            }\n"
   ]
  },
  {
   "cell_type": "code",
   "execution_count": 71,
   "metadata": {},
   "outputs": [],
   "source": [
    "# Questão 11\n",
    "\n",
    "local_filme = set()\n",
    "\n",
    "for movie in data[\"data\"][\"movies\"]:\n",
    "    local_filme.update(movie.get(\"production\", {}).get(\"filmingLocations\", []))\n",
    "\n",
    "local_filme_atualizado = sorted(local_filme)"
   ]
  },
  {
   "cell_type": "code",
   "execution_count": 74,
   "metadata": {},
   "outputs": [],
   "source": [
    "# Questão 12\n",
    "\n",
    "diretores = {}\n",
    "\n",
    "for movie in data[\"data\"][\"movies\"]:\n",
    "    diretores[movie[\"title\"]] = movie.get(\"directors\", [])\n"
   ]
  },
  {
   "cell_type": "code",
   "execution_count": 55,
   "metadata": {},
   "outputs": [],
   "source": [
    "# Questão 13\n",
    "\n",
    "filme_maior_receita = None\n",
    "maior_receita = 0\n",
    "\n",
    "for movie in data[\"data\"][\"movies\"]:\n",
    "    receita = movie.get(\"production\", {}).get(\"boxOffice\", {}).get(\"revenue\", 0)\n",
    "    if receita > maior_receita:\n",
    "        maior_receita = receita\n",
    "        filme_maior_receita = {\n",
    "            \"title\": movie[\"title\"],\n",
    "            \"revenue\": receita,\n",
    "            \"budget\": movie.get(\"production\", {}).get(\"boxOffice\", {}).get(\"budget\", 0),\n",
    "            \"profit\": movie.get(\"production\", {}).get(\"boxOffice\", {}).get(\"profit\", 0)\n",
    "        }"
   ]
  },
  {
   "cell_type": "code",
   "execution_count": 56,
   "metadata": {},
   "outputs": [],
   "source": [
    "# Questão 14\n",
    "\n",
    "lucro_total = 0\n",
    "num_filmes = 0\n",
    "\n",
    "for movie in data[\"data\"][\"movies\"]:\n",
    "    lucro = movie.get(\"production\", {}).get(\"boxOffice\", {}).get(\"profit\", 0)\n",
    "    lucro_total += lucro\n",
    "    num_filmes += 1\n",
    "\n",
    "media_lucro = lucro_total / num_filmes if num_filmes > 0 else 0"
   ]
  },
  {
   "cell_type": "code",
   "execution_count": 57,
   "metadata": {},
   "outputs": [],
   "source": [
    "# Questão 15\n",
    "\n",
    "vendas_ingresso = {}\n",
    "\n",
    "for movie in data[\"data\"][\"movies\"]:\n",
    "    vendas_ingresso = movie.get(\"production\", {}).get(\"boxOffice\", {}).get(\"ticketSales\", {})\n",
    "    vendas_ingresso[movie[\"title\"]] = {\n",
    "        \"domestic\": vendas_ingresso.get(\"domestic\", 0),\n",
    "        \"international\": vendas_ingresso.get(\"international\", 0)\n",
    "    }\n"
   ]
  },
  {
   "cell_type": "code",
   "execution_count": 60,
   "metadata": {},
   "outputs": [],
   "source": [
    "# Questão 16\n",
    "\n",
    "premios = {}\n",
    "\n",
    "for movie in data[\"data\"][\"movies\"]:\n",
    "    premio = movie.get(\"awards\", [])\n",
    "    premios[movie[\"title\"]] = [\n",
    "        {\n",
    "            \"year\": award[\"year\"],\n",
    "            \"award\": award[\"award\"],\n",
    "            \"category\": award[\"category\"],\n",
    "            \"won\": award[\"won\"]\n",
    "        }\n",
    "        for award in premio\n",
    "    ]\n",
    "\n",
    "for serie in data[\"data\"][\"series\"]:\n",
    "    premio = serie.get(\"awards\", [])\n",
    "    premios[serie[\"title\"]] = [\n",
    "        {\n",
    "            \"year\": award[\"year\"],\n",
    "            \"award\": award[\"award\"],\n",
    "            \"category\": award[\"category\"],\n",
    "            \"won\": award[\"won\"]\n",
    "        }\n",
    "        for award in premio\n",
    "    ]"
   ]
  },
  {
   "cell_type": "code",
   "execution_count": 61,
   "metadata": {},
   "outputs": [],
   "source": [
    "# Questão 17\n",
    "\n",
    "filmes_ganhadores = []\n",
    "series_ganhadoras = []\n",
    "\n",
    "for movie in data[\"data\"][\"movies\"]:\n",
    "    for award in movie.get(\"awards\", []):\n",
    "        if award[\"won\"]:\n",
    "            filmes_ganhadores.append(movie[\"title\"])\n",
    "            break  \n",
    "\n",
    "for serie in data[\"data\"][\"series\"]:\n",
    "    for award in serie.get(\"awards\", []):\n",
    "        if award[\"won\"]:\n",
    "            series_ganhadoras.append(serie[\"title\"])\n",
    "            break  "
   ]
  },
  {
   "cell_type": "code",
   "execution_count": 62,
   "metadata": {},
   "outputs": [],
   "source": [
    "# Questão 18\n",
    "\n",
    "indicados = {}\n",
    "\n",
    "for movie in data[\"data\"][\"movies\"]:\n",
    "    for award in movie.get(\"awards\", []):\n",
    "        if award[\"category\"] == \"Best Picture\":\n",
    "            ano = award[\"year\"]\n",
    "            indicado = award.get(\"nominees\", [])\n",
    "            if ano not in indicados:\n",
    "                indicados[ano] = []\n",
    "            indicados[ano].extend(indicado)\n",
    "\n",
    "for year in indicados:\n",
    "    indicados[year] = sorted(set(indicados[year]))\n"
   ]
  },
  {
   "cell_type": "code",
   "execution_count": 63,
   "metadata": {},
   "outputs": [],
   "source": [
    "# Questão 19\n",
    "\n",
    "review_mais_ajudou = None\n",
    "maior_votos = 0\n",
    "\n",
    "for movie in data[\"data\"][\"movies\"]:\n",
    "    for review in movie.get(\"reviews\", []):\n",
    "        votos = review.get(\"details\", {}).get(\"helpfulVotes\", 0)\n",
    "        if votos > maior_votos:\n",
    "            maior_votos = votos\n",
    "            review_mais_ajudou = {\n",
    "                \"content_type\": \"Movie\",\n",
    "                \"title\": movie[\"title\"],\n",
    "                \"user\": review[\"user\"],\n",
    "                \"rating\": review[\"rating\"],\n",
    "                \"comment\": review[\"comment\"],\n",
    "                \"helpfulVotes\": votos,\n",
    "                \"date\": review[\"details\"][\"date\"]\n",
    "            }\n",
    "\n",
    "for serie in data[\"data\"][\"series\"]:\n",
    "    for review in serie.get(\"reviews\", []):\n",
    "        votos = review.get(\"details\", {}).get(\"helpfulVotes\", 0)\n",
    "        if votos > maior_votos:\n",
    "            maior_votos = votos\n",
    "            review_mais_ajudou = {\n",
    "                \"content_type\": \"Series\",\n",
    "                \"title\": serie[\"title\"],\n",
    "                \"user\": review[\"user\"],\n",
    "                \"rating\": review[\"rating\"],\n",
    "                \"comment\": review[\"comment\"],\n",
    "                \"helpfulVotes\": votos,\n",
    "                \"date\": review[\"details\"][\"date\"]\n",
    "            }"
   ]
  },
  {
   "cell_type": "code",
   "execution_count": 66,
   "metadata": {},
   "outputs": [],
   "source": [
    "# Questão 20\n",
    "\n",
    "soma_notas = 0\n",
    "numero_filmes = 0\n",
    "\n",
    "for movie in data[\"data\"][\"movies\"]:\n",
    "    nota = movie.get(\"rating\", 0)\n",
    "    soma_notas += nota\n",
    "    numero_filmes += 1\n",
    "\n",
    "media_notas = soma_notas / numero_filmes if numero_filmes > 0 else 0"
   ]
  },
  {
   "cell_type": "code",
   "execution_count": 64,
   "metadata": {},
   "outputs": [],
   "source": [
    "# Questão 21\n",
    "\n",
    "reviews_filmes = []\n",
    "reviews_series = []\n",
    "\n",
    "for movie in data[\"data\"][\"movies\"]:\n",
    "    for review in movie.get(\"reviews\", []):\n",
    "        review_data = review.get(\"details\", {}).get(\"date\", \"\")\n",
    "        if review_data and int(review_data.split(\"-\")[0]) < 2022:\n",
    "            reviews_filmes.append({\n",
    "                \"title\": movie[\"title\"],\n",
    "                \"user\": review[\"user\"],\n",
    "                \"rating\": review[\"rating\"],\n",
    "                \"comment\": review[\"comment\"],\n",
    "                \"date\": review_data\n",
    "            })\n",
    "\n",
    "for serie in data[\"data\"][\"series\"]:\n",
    "    for review in serie.get(\"reviews\", []):\n",
    "        review_data = review.get(\"details\", {}).get(\"date\", \"\")\n",
    "        if review_data and int(review_data.split(\"-\")[0]) < 2022:\n",
    "            reviews_series.append({\n",
    "                \"title\": serie[\"title\"],\n",
    "                \"user\": review[\"user\"],\n",
    "                \"rating\": review[\"rating\"],\n",
    "                \"comment\": review[\"comment\"],\n",
    "                \"date\": review_data\n",
    "            })"
   ]
  },
  {
   "cell_type": "code",
   "execution_count": 76,
   "metadata": {},
   "outputs": [
    {
     "name": "stdout",
     "output_type": "stream",
     "text": [
      "Arquivos criados com sucesso!\n"
     ]
    }
   ],
   "source": [
    "# Não entendi para que serve os trechos \"\"w\", encoding=\"utf-8\"\"\n",
    "\n",
    "with open(\"filmes_lista.py\", \"w\", encoding=\"utf-8\") as py_file:\n",
    "    py_file.write(\"movies = \" + str(titulos_filmes))\n",
    "    if melhor_filme:\n",
    "        py_file.write(f\"\\nbest_movie = ('{melhor_filme['title']}', {melhor_filme['rating']})\\n\")\n",
    "\n",
    "with open(\"series_lista.py\", \"w\", encoding=\"utf-8\") as series_file:\n",
    "    series_file.write(f\"series = {titulos_series}\\n\")\n",
    "    if melhor_serie:\n",
    "        series_file.write(f\"best_series = ('{melhor_serie['title']}', {melhor_serie['rating']})\\n\")\n",
    "\n",
    "with open(\"generos_lista.py\", \"w\", encoding=\"utf-8\") as genres_file:\n",
    "    genres_file.write(f\"genres = {lista_generos}\\n\")\n",
    "\n",
    "with open(\"filmes_lista.py\", \"w\", encoding=\"utf-8\") as movies_file:\n",
    "    movie_titles = [movie[\"title\"] for movie in filmes]\n",
    "    movies_file.write(f\"movies = {movie_titles}\\n\")\n",
    "    movies_file.write(f\"total_movies = {num_movies}\\n\")\n",
    "\n",
    "with open(\"series_lista.py\", \"w\", encoding=\"utf-8\") as series_file:\n",
    "    series_titles = [serie[\"title\"] for serie in series]\n",
    "    series_file.write(f\"series = {series_titles}\\n\")\n",
    "    series_file.write(f\"total_series = {num_series}\\n\")\n",
    "\n",
    "with open(\"lista_streamings.py\", \"w\", encoding=\"utf-8\") as streaming_file:\n",
    "    streaming_file.write(f\"streaming_platforms = {lista_streamings}\\n\")\n",
    "\n",
    "with open(\"netflix_4k_lista.py\", \"w\", encoding=\"utf-8\") as netflix_file:\n",
    "    netflix_file.write(f\"filmes_4k_netflix = {filmes_4k_netflix}\\n\")\n",
    "    netflix_file.write(f\"series_4k_netflix = {series_4k_netflix}\\n\")\n",
    "\n",
    "with open(\"plataformas_filmes.py\", \"w\", encoding=\"utf-8\") as platforms_file:\n",
    "    platforms_file.write(f\"plataformas_filmes = {plataformas_filmes}\\n\")\n",
    "\n",
    "with open(\"atores_lista.py\", \"w\", encoding=\"utf-8\") as actors_file:\n",
    "    actors_file.write(f\"atores = {atores}\\n\")\n",
    "\n",
    "with open(\"ator_mais_bem_pago.py\", \"w\", encoding=\"utf-8\") as salary_file:\n",
    "    salary_file.write(f\"highest_paid_actor = {rico}\\n\")\n",
    "\n",
    "with open(\"local_filme_atualizado.py\", \"w\", encoding=\"utf-8\") as locations_file: \n",
    "    locations_file.write(f\"locais_filme = {local_filme_atualizado}\\n\")             # Deu erro nessa linha (consertado)\n",
    "    \n",
    "with open(\"diretores.py\", \"w\", encoding=\"utf-8\") as directors_file:\n",
    "    directors_file.write(f\"diretores = {diretores}\\n\")                        # Deu erro nessa linha (consertado)\n",
    "\n",
    "with open(\"filme_maior_receita.py\", \"w\", encoding=\"utf-8\") as revenue_file:\n",
    "    revenue_file.write(f\"filme_maior_receita = {filme_maior_receita}\\n\")\n",
    "\n",
    "with open(\"media_lucro.py\", \"w\", encoding=\"utf-8\") as profit_file:\n",
    "    profit_file.write(f\"average_profit = {media_lucro}\\n\")\n",
    "\n",
    "with open(\"vendas_ingressos.py\", \"w\", encoding=\"utf-8\") as sales_file:\n",
    "    sales_file.write(f\"ticket_sales = {vendas_ingresso}\\n\")\n",
    "\n",
    "with open(\"lista_premios.py\", \"w\", encoding=\"utf-8\") as awards_file:\n",
    "    awards_file.write(f\"awards_dict = {premios}\\n\")\n",
    "    \n",
    "with open(\"ganhadores_premios.py\", \"w\", encoding=\"utf-8\") as winners_file:\n",
    "    winners_file.write(f\"winning_movies = {filmes_ganhadores}\\n\")\n",
    "    winners_file.write(f\"winning_series = {series_ganhadoras}\\n\")\n",
    "\n",
    "with open(\"nomeados.py\", \"w\", encoding=\"utf-8\") as nominees_file:\n",
    "    nominees_file.write(f\"best_picture_nominees = {melhor_filme}\\n\")\n",
    "\n",
    "with open(\"review_mais_ajudou.py\", \"w\", encoding=\"utf-8\") as review_file:\n",
    "    review_file.write(f\"most_helpful_review = {review_mais_ajudou}\\n\")\n",
    "\n",
    "with open(\"media_avaliacoes.py\", \"w\", encoding=\"utf-8\") as rating_file:\n",
    "    rating_file.write(f\"average_movie_rating = {media_notas:.2f}\\n\")\n",
    "\n",
    "with open(\"reviews_velhas.py\", \"w\", encoding=\"utf-8\") as reviews_file:\n",
    "    reviews_file.write(f\"old_movie_reviews = {reviews_filmes}\\n\")\n",
    "    reviews_file.write(f\"old_series_reviews = {reviews_series}\\n\")\n",
    "    \n",
    "print(\"Arquivos criados com sucesso!\")"
   ]
  }
 ],
 "metadata": {
  "kernelspec": {
   "display_name": "Python 3",
   "language": "python",
   "name": "python3"
  },
  "language_info": {
   "codemirror_mode": {
    "name": "ipython",
    "version": 3
   },
   "file_extension": ".py",
   "mimetype": "text/x-python",
   "name": "python",
   "nbconvert_exporter": "python",
   "pygments_lexer": "ipython3",
   "version": "3.13.0"
  }
 },
 "nbformat": 4,
 "nbformat_minor": 2
}
