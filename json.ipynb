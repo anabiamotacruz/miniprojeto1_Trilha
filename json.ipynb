{
 "cells": [
  {
   "cell_type": "code",
   "execution_count": null,
   "metadata": {},
   "outputs": [
    {
     "name": "stdout",
     "output_type": "stream",
     "text": [
      "{'data': {'movies': [{'id': 'tt0111161', 'title': 'The Shawshank Redemption', 'releaseYear': 1994, 'genres': ['Drama', 'Crime'], 'duration': 142, 'rating': 9.3, 'languages': ['English'], 'directors': ['Frank Darabont'], 'writers': ['Stephen King', 'Frank Darabont'], 'production': {'studio': 'Castle Rock Entertainment', 'country': 'USA', 'filmingLocations': ['Mansfield, Ohio', 'Ashland, Ohio'], 'boxOffice': {'budget': 25000000, 'revenue': 28341469, 'profit': 3341469, 'ticketSales': {'domestic': 15000000, 'international': 13341469}}}, 'cast': [{'actor': 'Tim Robbins', 'character': 'Andy Dufresne', 'salary': 1000000, 'previousMovies': [{'title': 'Bull Durham', 'year': 1988}], 'biography': {'birthDate': '1958-10-16', 'nationality': 'American', 'awards': [{'year': 2003, 'award': 'Academy Award', 'category': 'Best Supporting Actor', 'won': True}]}}, {'actor': 'Morgan Freeman', 'character': \"Ellis Boyd 'Red' Redding\", 'salary': 5000000, 'previousMovies': [{'title': 'Driving Miss Daisy', 'year': 1989}], 'biography': {'birthDate': '1937-06-01', 'nationality': 'American', 'awards': [{'year': 2005, 'award': 'Academy Award', 'category': 'Best Supporting Actor', 'won': True}]}}], 'streaming': {'Netflix': {'available': True, 'url': 'https://www.netflix.com/title/70005379', 'resolution': ['SD', 'HD', '4K']}, 'Amazon Prime': {'available': False, 'url': ''}}, 'reviews': [{'user': 'JohnDoe123', 'rating': 10, 'comment': 'An absolute masterpiece of storytelling.', 'details': {'helpfulVotes': 120, 'date': '2022-05-14'}}], 'awards': [{'year': 1995, 'award': 'Academy Awards', 'category': 'Best Picture', 'won': False, 'nominees': ['Forrest Gump', 'Pulp Fiction', 'Four Weddings and a Funeral', 'Quiz Show']}]}], 'series': [{'id': 'tt0903747', 'title': 'Breaking Bad', 'releaseYear': 2008, 'genres': ['Crime', 'Drama', 'Thriller'], 'seasons': 5, 'episodes': 62, 'rating': 9.5, 'languages': ['English'], 'creators': ['Vince Gilligan'], 'cast': [{'actor': 'Bryan Cranston', 'character': 'Walter White', 'salary': 225000, 'previousShows': [{'title': 'Malcolm in the Middle', 'year': 2000}], 'biography': {'birthDate': '1956-03-07', 'nationality': 'American', 'awards': [{'year': 2014, 'award': 'Primetime Emmy', 'category': 'Outstanding Lead Actor in a Drama Series', 'won': True}]}}, {'actor': 'Aaron Paul', 'character': 'Jesse Pinkman', 'salary': 150000, 'previousShows': [{'title': 'Big Love', 'year': 2006}], 'biography': {'birthDate': '1979-08-27', 'nationality': 'American', 'awards': [{'year': 2014, 'award': 'Primetime Emmy', 'category': 'Outstanding Supporting Actor in a Drama Series', 'won': True}]}}], 'streaming': {'Netflix': {'available': True, 'url': 'https://www.netflix.com/title/70143836', 'resolution': ['HD', '4K']}}, 'reviews': [{'user': 'SkylerNotGuilty', 'rating': 10, 'comment': 'The best TV show ever made!', 'details': {'helpfulVotes': 500, 'date': '2021-08-10'}}], 'awards': [{'year': 2013, 'award': 'Primetime Emmy Awards', 'category': 'Outstanding Drama Series', 'won': True, 'nominees': ['Game of Thrones', 'Mad Men', 'House of Cards']}]}]}}\n"
     ]
    }
   ],
   "source": [
    "import json\n",
    "\n",
    "with open(\"movies_and_series.json\", \"r\", encoding=\"utf-8\") as file:\n",
    "    data = json.load(file)\n"
   ]
  },
  {
   "cell_type": "code",
   "execution_count": 6,
   "metadata": {},
   "outputs": [],
   "source": [
    "# Questão 1\n",
    "\n",
    "movies = data[\"data\"][\"movies\"]\n",
    "movie_titles = [movie[\"title\"] for movie in movies]"
   ]
  },
  {
   "cell_type": "code",
   "execution_count": null,
   "metadata": {},
   "outputs": [],
   "source": [
    "# Questão 2\n",
    "\n",
    "series = data[\"data\"][\"series\"]\n",
    "series_titles = [serie[\"title\"] for serie in series]"
   ]
  },
  {
   "cell_type": "code",
   "execution_count": 11,
   "metadata": {},
   "outputs": [],
   "source": [
    "# Questão 3\n",
    "\n",
    "best_movie = max(movies, key=lambda x: x[\"rating\"], default=None)\n",
    "best_series = max(series, key=lambda x: x[\"rating\"], default=None)"
   ]
  },
  {
   "cell_type": "code",
   "execution_count": 23,
   "metadata": {},
   "outputs": [],
   "source": [
    "# Questão 4\n",
    "\n",
    "genres = set()\n",
    "\n",
    "for movie in movies:\n",
    "    genres.update(movie['genres'])\n",
    "\n",
    "for serie in series:\n",
    "    genres.update(serie[\"genres\"])\n",
    "\n",
    "genres_list = sorted(genres)"
   ]
  },
  {
   "cell_type": "code",
   "execution_count": 24,
   "metadata": {},
   "outputs": [
    {
     "name": "stdout",
     "output_type": "stream",
     "text": [
      "Arquivo 'movies_list.py', 'series_list.py' e 'genres_list.py' criado com sucesso!\n"
     ]
    }
   ],
   "source": [
    "with open(\"movies_list.py\", \"w\", encoding=\"utf-8\") as py_file:\n",
    "    py_file.write(\"movies = \" + str(movie_titles))\n",
    "    if best_movie:\n",
    "        py_file.write(f\"\\nbest_movie = ('{best_movie['title']}', {best_movie['rating']})\\n\")\n",
    "\n",
    "with open(\"series_list.py\", \"w\", encoding=\"utf-8\") as series_file:\n",
    "    series_file.write(f\"series = {series_titles}\\n\")\n",
    "    if best_series:\n",
    "        series_file.write(f\"best_series = ('{best_series['title']}', {best_series['rating']})\\n\")\n",
    "\n",
    "with open(\"genres_list.py\", \"w\", encoding=\"utf-8\") as genres_file:\n",
    "    genres_file.write(f\"genres = {genres_list}\\n\")\n",
    "\n",
    "print(\"Arquivo 'movies_list.py', 'series_list.py' e 'genres_list.py' criado com sucesso!\")"
   ]
  },
  {
   "cell_type": "code",
   "execution_count": null,
   "metadata": {},
   "outputs": [],
   "source": [
    "# Questão 5\n",
    "\n"
   ]
  }
 ],
 "metadata": {
  "kernelspec": {
   "display_name": "Python 3",
   "language": "python",
   "name": "python3"
  },
  "language_info": {
   "codemirror_mode": {
    "name": "ipython",
    "version": 3
   },
   "file_extension": ".py",
   "mimetype": "text/x-python",
   "name": "python",
   "nbconvert_exporter": "python",
   "pygments_lexer": "ipython3",
   "version": "3.13.0"
  }
 },
 "nbformat": 4,
 "nbformat_minor": 2
}
